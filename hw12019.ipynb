{
 "cells": [
  {
   "cell_type": "code",
   "execution_count": null,
   "metadata": {},
   "outputs": [],
   "source": [
    "Создаем питоновский объект, выводим количество твитов"
   ]
  },
  {
   "cell_type": "code",
   "execution_count": 71,
   "metadata": {},
   "outputs": [
    {
     "name": "stdout",
     "output_type": "stream",
     "text": [
      "2556\n"
     ]
    }
   ],
   "source": [
    "import json\n",
    "\n",
    "twitter = []\n",
    "for line in open('hw_3_twitter.json'):\n",
    "    twitter.append(json.loads(line))\n",
    "\n",
    "print(len(twitter))\n"
   ]
  },
  {
   "cell_type": "markdown",
   "metadata": {},
   "source": [
    "Оставляем неудаленные твиты, находим процент удаленных и выводим его"
   ]
  },
  {
   "cell_type": "code",
   "execution_count": 72,
   "metadata": {},
   "outputs": [
    {
     "name": "stdout",
     "output_type": "stream",
     "text": [
      "14.162754303599373 %\n"
     ]
    }
   ],
   "source": [
    "twitter_ok = []\n",
    "for i in twitter:\n",
    "    if 'created_at' in i:\n",
    "        twitter_ok.append(i)\n",
    "print((len(twitter)-len(twitter_ok))/len(twitter)*100, '%')\n"
   ]
  },
  {
   "cell_type": "markdown",
   "metadata": {},
   "source": [
    "Создаем частотный словарь языков, сортируем его по значениям, выводим нужное количество самых популярных языков"
   ]
  },
  {
   "cell_type": "code",
   "execution_count": 73,
   "metadata": {},
   "outputs": [
    {
     "name": "stdout",
     "output_type": "stream",
     "text": [
      "Сколько наиболее популярных языков вы хотите увидеть?5\n",
      "en\n",
      "ja\n",
      "es\n",
      "ko\n",
      "th\n"
     ]
    }
   ],
   "source": [
    "import operator\n",
    "d = {}\n",
    "for twit in twitter_ok:\n",
    "    if twit['lang'] in d:\n",
    "        d[twit['lang']] += 1\n",
    "    else:\n",
    "        d[twit['lang']] = 1\n",
    "\n",
    "sorted_d = sorted(d.items(), key=operator.itemgetter(1))\n",
    "n = int(input('Сколько наиболее популярных языков вы хотите увидеть?'))\n",
    "for i in range(n):\n",
    "    k = len(sorted_d) - i - 1\n",
    "    print (sorted_d[k][0])\n"
   ]
  },
  {
   "cell_type": "markdown",
   "metadata": {},
   "source": [
    "Создаем частотный словарь пользователей, выводим имена тех, у кого больше 1 твита"
   ]
  },
  {
   "cell_type": "code",
   "execution_count": 74,
   "metadata": {},
   "outputs": [
    {
     "name": "stdout",
     "output_type": "stream",
     "text": [
      "30\n"
     ]
    }
   ],
   "source": [
    "d = {}\n",
    "for twit in twitter_ok:\n",
    "    if twit['user']['name'] in d:\n",
    "        d[twit['user']['name']] += 1\n",
    "    else:\n",
    "        d[twit['user']['name']] = 1\n",
    "count = 0\n",
    "for user in d:\n",
    "    if d[user] != 1:\n",
    "        count += 1\n",
    "print (count)\n"
   ]
  },
  {
   "cell_type": "markdown",
   "metadata": {},
   "source": [
    "создаем частотный словарь хештегов, сортируем его по значениям, выводим 20 самых популярных"
   ]
  },
  {
   "cell_type": "code",
   "execution_count": 75,
   "metadata": {},
   "outputs": [
    {
     "name": "stdout",
     "output_type": "stream",
     "text": [
      "BTS\n",
      "방탄소년단\n",
      "AMAs\n",
      "人気投票ガチャ\n",
      "태형\n",
      "뷔\n",
      "MPN\n",
      "PledgeForSwachhBharat\n",
      "오늘의방탄\n",
      "BTSLoveYourselfTour\n",
      "BTSinChicago\n",
      "JIMIN\n",
      "เป๊กผลิตโชค\n",
      "시카고1회차공연\n",
      "V\n",
      "PCAs\n",
      "NCT127\n",
      "BTSARMY\n",
      "WajahmuPlastik\n",
      "지민\n"
     ]
    }
   ],
   "source": [
    "d = {}\n",
    "for twit in twitter_ok:\n",
    "    if (twit['entities']['hashtags']) != []:\n",
    "        for h in twit['entities']['hashtags']:\n",
    "            if h['text'] in d:\n",
    "                d[h['text']] += 1\n",
    "            else:\n",
    "                d[h['text']] = 1\n",
    "sorted_d = sorted(d.items(), key=operator.itemgetter(1))\n",
    "for i in range(20):\n",
    "    k = (len(sorted_d) - i - 1)\n",
    "    print (sorted_d[k][0])\n"
   ]
  },
  {
   "cell_type": "markdown",
   "metadata": {},
   "source": [
    "Достаем не ретвиты только на английском, убираем пунктуацию и создаем частотный словарь"
   ]
  },
  {
   "cell_type": "code",
   "execution_count": 76,
   "metadata": {},
   "outputs": [
    {
     "name": "stdout",
     "output_type": "stream",
     "text": [
      "{'tatolote': 1, 'higher': 1, 'than': 5, '600': 1, 'time': 9, 'to': 86, 'think': 6, 'about': 14, 'what': 20, 'toys': 1, 'youll': 2, 'be': 26, 'getting': 3, 'for': 42, 'your': 17, 'kids': 2, 'this': 32, 'christmas': 1, 'here': 4, 'are': 21, 'our': 6, 'top': 3, 'picks': 1, 'httpstcobg7jq6ap6d': 1, 'don’t': 5, 'you': 48, 'know': 7, 'that': 33, 'sharing': 1, 'videos': 1, 'is': 51, 'essential': 1, 'digital': 1, 'strategy': 2, 'might': 3, 'wondering': 1, 'why': 4, 'the': 126, 'artic': 1, 'httpstcoqrhgs3mfib': 1, 'mccalls': 1, 'm6313': 1, 'childrens': 1, 'and': 65, 'girls': 2, 'tops': 1, 'dress': 1, 'belt': 1, 'ruffle': 1, 'jeans': 1, 'sz': 1, 'cl': 1, '6': 4, '7': 1, '8': 1, 'httpstcoop9yc1urq9': 1, 'ebay': 1, 'httpstcodtmyznyyam': 1, 'well': 2, 'shit': 4, 'can’t': 7, 'wait': 2, 'return': 1, 'australia': 1, 'ticketsinfo': 1, 'httpstcodm8ymwanig': 1, 'httpstcohrldk5kiw0': 1, 'sometimes': 1, 'love': 8, 'can': 8, 'problematic': 1, 'abcblackcomedy': 1, 'continues': 1, 'tonight': 2, '930pm': 1, 'on': 26, 'abc': 1, 'tv': 2, 'or': 9, 'get': 16, 'cheeky': 1, 'afte': 1, 'httpstcoz1dmb1jlx7': 1, 'finance': 1, 'employment': 1, 'personal': 2, 'issues': 1, 'not': 17, 'letting': 1, 'a': 77, 'good': 7, 'night': 4, 'sleep': 2, 'worry': 1, 'no': 8, 'more': 17, 'free': 7, 'expert': 1, 'consu': 1, 'httpstcoavroxpcco7': 1, 'looking': 4, 'exercise': 1, 'without': 2, 'worrying': 1, 'breakouts': 1, 'rashes': 1, 'check': 4, 'out': 9, 'these': 4, 'tips': 1, 'tricks': 1, 'care': 1, 'httpstcogyys9mndmd': 1, 'but': 17, 'always': 4, 'giving': 1, 'her': 5, 'preference”': 1, 'httpstcopvn7mxhx1u': 1, '140001': 1, 'up': 11, '717': 1, 'days': 3, '2139': 1, '1': 4, 'user': 1, 'load': 1, 'average': 1, '152': 1, '166': 2, '172': 1, '500°c': 1, 'current': 2, 'btc': 1, 'price': 2, '': 38, '642375': 1, '24h': 2, 'change': 2, '230': 1, 'volume': 1, '398397106': 1, 'marketcap': 1, 'httpstcossazdfdl3k': 1, 'taeilthetic': 1, 'i': 73, 'supposed': 1, 'compliment': 1, 'so': 21, 'obrigada': 1, '😂': 2, 'its': 15, 'october': 4, '3rd': 2, 'yungriix': 1, 'mine': 1, 'looked': 1, 'disastrous': 1, 'my': 30, 'band': 1, 'has': 6, '3': 5, 'peeps': 1, 'we': 12, 'could': 3, 'pandeytisha': 1, 'morning': 2, 'songs': 1, 'all': 12, 'longand': 1, 'words': 1, 'sadwhy': 1, 'must': 4, 'choosebetween': 1, 'best': 4, 'things': 2, 'ever': 3, 'had': 3, 'neilyoung': 1, '03oct18': 1, '1030': 1, 'dollar': 1, 'vs': 2, 'rupee': 1, 'today': 9, 'at': 17, 'reservebankofindia': 1, 'rbi': 1, '686573': 1, 'download': 1, 'android': 1, 'app': 2, 'in': 38, 'httpstcoaoputxcxcy': 1, 'afraid': 1, 'ai': 1, 'coming': 2, 'take': 4, 'job': 1, 'shouldnt': 1, 'instead': 1, 'should': 4, 'worried': 1, 'how': 6, 'integrate': 1, 'it': 42, 'httpstcoizplhyag3w': 1, 'astronomers': 1, 'have': 19, 'named': 1, 'goblin': 1, 'theyve': 1, 'learned': 1, 'quite': 1, 'planet': 1, 'nine': 1, 'httpstcoc6eqehvo0d': 1, 'learn': 1, 'sell': 1, 'instagram': 3, 'with': 20, 'shop': 1, 'now': 12, 'stories': 1, 'ads': 1, 'httpstcoadfpbavzhm': 1, 'inc': 1, 'shanebarker': 1, 'httpstcogbvsorpme3': 1, 'welcome': 1, 'biltongbar': 1, 'click': 1, 'through': 1, 'delicious': 1, 'biltong': 1, 'recipes': 1, 'httpstcowm93dymcrv': 1, 'httpstcoy65z5ejwe4': 1, 'sarah': 1, 'palin’s': 1, 'son': 1, 'track': 1, 'faces': 1, 'court': 2, 'decision': 3, 'jail': 1, 'httpstcoehgifzblcd': 1, 'really': 6, 'dont': 5, 'gaf': 1, 'anything': 2, 'anymore': 1, 'pick': 2, 'myself': 2, 'even': 3, 'faker': 1, 'tapos': 1, 'naaaaaaa': 1, 'sunburned': 1, 'heart': 4, '😭': 3, 'hearteuu': 1, 'favorite': 2, 'part': 2, 'seeing': 5, 'wowcuppcaake': 1, 'amp': 6, 'thetwitchbakery': 1, 'stream': 1, 'team': 5, 'back': 4, '2': 5, 'years': 2, 'ago': 1, 'httpstco20ink50njc': 1, 'tombstones': 1, 'ut2k4': 1, 'gaming': 1, 'server': 1, 'echo': 1, 'playing': 3, 'dmasbestos': 1, '016': 1, 'players': 1, 'httpstcoqdwj45me4l': 1, 'httpstcoh9hbdajxjm': 1, 'surface': 1, 'tempered': 1, 'film': 1, 'samsung': 2, 's8': 1, 'plus': 1, 'httpstcoippjrkc3jj': 1, 'httpstcovx4vi6oip1': 1, 'because': 5, 'weve': 1, 'lost': 2, 'their': 6, 'trust': 1, 'when': 8, 'michael': 1, 'stomped': 1, 'earth': 1, 'song': 3, 'they': 11, 'like': 14, 'obsorbed': 1, 'force': 1, 'ski': 1, 'httpstcogwbsxofdf8': 1, 'manchester': 1, 'united': 3, 'frustrated': 1, 'valencia': 1, 'barren': 1, 'draw': 2, 'old': 1, 'trafford': 1, 'mourinho': 1, 'ball': 2, 'nhl': 1, 'alert': 1, '10318': 1, '0': 2, 'sponsor': 1, 'entry': 1, 'into': 4, '100k': 1, 'contest': 1, '5': 1, 'depoist': 1, 'draftkings': 1, 'httpstcoilqzuo7zy4': 1, 'tweet': 1, 'rt': 2, 'alisakeeton658': 1, 'w12': 1, 'ico': 1, 'crowdsale': 1, 'bitcoin': 1, 'blockchain': 3, 'token': 1, 'eth': 1, 'ethereum': 1, 'tokensale': 1, 'httpstco1lzutplgnu': 1, 'excuse': 2, 'primark’s': 1, 'makeup': 1, 'cruelty': 1, 'inexpensive': 1, 'cardboardshark': 1, 'light': 2, 'some': 7, 'candles': 1, 'incense': 1, 'dissolve': 1, 'salt': 1, 'cup': 1, 'of': 45, 'water': 1, 'stand': 2, 'eastern': 1, 'sid': 1, 'httpstcocw9gguggdd': 1, 'if': 11, 'havent': 3, 'crashed': 1, 'previous': 1, '22': 3, 'corners': 1, 'then': 5, 'chances': 1, 'stack': 1, 'murrays': 1, 'motorsportmoments': 1, 'httpstcoeskwalsdec': 1, 'everybody': 1, 'wants': 2, 'rule': 1, 'world': 2, 'literally': 2, 'own': 5, 'sunglasses': 1, '1texanmarcy': 1, 'pftompkins': 1, 'busyphilipps': 1, 'pretty': 2, 'easy': 3, 'separate': 1, 'ones': 2, 'from': 9, 'bad': 3, 'by': 6, 'reac': 1, 'httpstco4uvs3fbwbl': 1, 'prestashop': 1, 'module': 1, 'httpstco2dqampvupr': 1, 'httpstcohvwfodhdew': 1, 'tweeted': 1, 'times': 1, 'rachel': 1, 'marie': 1, 'writer': 1, 'httpstcohflpz9jguh': 1, 'call': 2, 'me': 27, 'sometime': 1, 'blos713': 1, 'im': 13, 'off': 4, 'friday': 1, 'too': 4, 'lets': 1, 'do': 4, 'sum': 1, 'come': 1, 'across': 1, 'stuff': 3, 'fogot': 1, 'loved': 3, 'game': 6, 'cube': 1, 'brothers': 1, 'crash': 2, 'was': 12, 'httpstcouekoms0ha9': 1, 'rexchidubem': 1, 'exactly': 1, 'it’s': 8, 'annoying': 1, 'only': 11, 'online': 1, 'seasons': 1, 'coins': 1, 'after': 2, 'finishing': 1, 'big': 1, 'gn': 1, 'before': 4, 'start': 1, 'remembering': 1, 'dreams': 1, 'day': 7, '✔': 1, '0500': 1, 'utc': 3, 'wind': 3, 'n': 3, '00': 2, 'kts': 1, 'temp': 2, '110': 2, 'c': 4, 'max': 2, '0909': 2, '1121': 1, 'min': 1, '0457': 1, 'dew': 1, 'pt': 1, '96': 1, 'bar': 3, '102': 1, 'httpstcomvmuuii0bz': 1, 'i’m': 9, 'single': 2, 'dating': 2, 'leo': 1, '–': 1, 'ceec': 1, 'httpstcoqnrwtlyvj2': 1, 'smolbaka': 1, 'sky': 1, 'didn’t': 7, 'want': 6, 'calling': 1, '🎶': 2, 'striving': 2, 'balance': 2, 'an': 10, 'instinctual': 2, 'reaction': 2, 'yet': 4, 'virgo': 2, 'httpstcoze2yha2dum': 1, 'burakovsky': 1, 'thing': 1, 'lock': 1, 'outside': 1, 'rated': 1, 'e': 2, 'sexytimes': 1, 'ao3': 1, 'httpstco7ql6g8rjdj': 1, 'httpstcoqmysqvw0mr': 1, 'gbpinr': 1, '291018': 1, 'current9568': 1, 'volume11104': 1, 'oi47534': 1, 'as': 9, 'oct': 1, '03': 4, '2018': 4, '102905': 1, 'ist': 1, 'imkoreantoo': 1, 'many': 2, 'highest': 1, 'point': 2, 'each': 2, 'week': 3, 'earn': 1, 'ticket': 1, 'kinda': 1, 'ha': 1, 'httpstcorlbtg1vrep': 1, 'qpacs': 1, 'first': 7, 'taste': 1, 'priscilla': 1, 'queen': 1, 'desert': 1, 'musical': 1, 'nothing': 3, 'short': 2, 'fabulous': 1, '👠': 1, 'httpstcowszs6woq4p': 1, '28': 1, 'hours': 1, '59': 2, 'minutes': 1, 'seconds': 1, 'until': 1, 'next': 3, 'icos': 1, 'httpstcozlrb22oxoi': 1, 'via': 4, 'gosayyay': 1, 'httpstcont5vi0psje': 1, 'quotes': 1, 'freshly': 1, 'created': 1, '2016': 1, '2017': 1, 'enjoy': 1, 'whatsappstatus': 1, 'latestquotes': 1, 'httpstcompvia5gmsl': 1, 'httpstcoqvpmo1phd0': 1, 'felda': 1, 'land': 1, 'deal': 1, 'suit': 2, 'judge': 1, 'recuses': 1, 'herself': 1, 'httpstcoulq1ezzbd7': 1, 'httpstcohrvddyyu0m': 1, 'sun': 1, 'joe': 1, 'tj604e': 1, 'electric': 1, 'garden': 1, 'tiller': 1, '16inch': 1, '135a': 1, 'certified': 1, 'refurbished': 1, 'httpstcomzxwuz5sa3': 1, 'httpstcosmhsdxzcle': 1, 'hit': 10, 'gore': 5, 'wildcard': 1, 'gifted': 1, 'post': 2, 'malone': 1, '25k': 1, 'gold': 1, 'bike': 1, 'httpstconwdcgefcja': 1, 'prankclips': 1, 'funny': 1, 'prank': 1, 'iconflow215': 1, 'airing': 1, 'soon': 1, 'airitoutradio': 1, '247': 1, 'stationclick': 1, 'link': 1, 'httpstcolrn0xxpgrx': 1, 'go': 6, 'httpstcobmdersudbs': 1, 'red': 1, 'hat': 1, 'security': 1, 'advisory': 2, '2018285701': 1, 'httpstcor20schbcfw': 1, 'sewer': 1, 'httpstco53gxm8qqqs': 1, 'trump': 2, 'told': 2, 'saudi': 1, 'king': 1, 'he': 12, 'wouldnt': 1, 'last': 4, 'us': 1, 'support': 1, 'httpstcopa1xfdi2dz': 1, 'presstv': 1, 'httpstco7ebpz1nzui': 1, 'samygo': 2, 'remote': 3, 'allows': 1, 'control': 1, 'following': 2, 'tvs': 1, 'over': 2, 'local': 1, 'network': 1, 'using': 1, 'wi': 1, 'httpstcoxqo4fw3kon': 1, 'beto': 1, 'o’rourke': 1, 'says': 4, 'passenger': 1, 'backs': 1, 'his': 3, 'claim': 1, 'fleeing': 1, '1998': 1, 'dui': 1, 'httpstconb8ojmo1vd': 1, 'httpstcozrv0obrtv0': 1, 'daze': 1, 'expect': 2, 'people': 9, 'better': 4, 'helps': 1, 'them': 3, 'become': 1, 'disappointed': 1, 'httpstco9ztxl6nz9r': 1, 'need': 7, 'explain': 1, 'yourself': 1, 'family': 2, 'loves': 1, 'they’ll': 1, 'there': 2, 'leightongrahame': 1, 'course': 2, '😊': 1, 'just': 14, 'miss': 3, 'drive': 2, 'lol': 2, '😄': 1, 'impact': 1, 'insurance': 2, 'industry': 1, 'httpstco1t96ahditq': 1, 'insurtech': 1, 'httpstcot4cvhtbhpr': 1, 'did': 3, 'customer': 1, 'churn': 1, 'usa': 1, 'gdp': 1, 'canada': 3, 'end': 1, 'customeracquisition': 1, 'addiction': 1, 'httpstcooeo5ml9mbl': 1, 'life': 7, 'httpstcopovqjrznqx': 1, 'one': 11, 'most': 4, 'interesting': 1, 'parts': 1, 'creation': 1, 'kid': 2, 'obscure': 1, 'instruments': 1, 'were': 2, 'used': 1, 'during': 1, 'cre': 1, 'httpstcokdy2qvjdfs': 1, 'rss': 1, 'feed': 1, 'url': 1, 'deprecated': 1, 'httpstcom2txxwt0fr': 1, 'shizukus': 1, 'that’s': 5, 'went': 2, 'tired': 2, 'bed': 2, 'wide': 1, 'awake': 1, 'mph': 1, 'wnw': 1, 'barometer': 1, '10090': 1, 'hpa': 2, 'rising': 1, 'slowly': 1, 'temperature': 1, '119': 1, '°c': 1, 'rain': 2, 'mm': 2, 'humidity': 1, '90': 1, 'eloraflora88': 1, 'daninew18': 1, 'public': 1, 'same': 1, 'way': 6, 'pretend': 1, 'burn': 1, 'witches': 1, 'httpstcogodmroewic': 1, 'beauty': 1, 'greater': 1, 'recommendation': 1, 'any': 3, 'letter': 1, 'reference': 1, 'health': 1, '0459': 1, 'sebgorka': 2, 'she': 6, 'imbecile': 1, 'excuses': 1, 'buy': 2, 'make': 6, '🤗': 1, 'flat': 1, 'whites': 1, 'fast': 1, 'food': 2, 'where': 1, 'uk': 1, 'buys': 1, 'coffee': 1, 'httpstcoywdwe7r29u': 1, 'gulaaaaaaa': 1, 'weyh': 1, 'slide': 1, 'camni': 1, 'sees': 1, 'trusts': 1, 'believes': 1, 'kn': 1, 'httpstcokxl4nyfoxx': 1, 'hope': 5, 'maybe': 2, 'you’ll': 1, 'wake': 1, 'realize': 2, 'been': 5, 'missing': 2, 'calls': 1, 'hell': 3, 'hurt': 1, 'knowing': 2, 'gotta': 2, 'live': 3, 'possibility': 1, 'heaven': 1, 'aint': 2, 'real': 4, 'ridiculous': 1, 'soft': 1, 'cant': 1, 'stop': 2, 'thinking': 1, 'joon': 1, 'twirling': 1, '9': 1, 'sweet': 1, 'busy': 1, 'philipps': 1, 'michelle': 1, 'williams': 1, 'said': 2, 'friendship': 1, 'dawson': 1, 'httpstcovakhgwkufv': 1, 'httpstco1zjunrotqh': 1, 'itsevandaniel': 1, 'him': 7, 'oyeronke': 1, 'thats': 3, 'classic': 1, 'example': 1, 'copy': 1, 'paste😀': 1, 'who': 9, 'drunk': 1, 'fight': 1, 'new': 6, 'friends': 1, 'lmao': 3, 'y’all': 1, 'thought': 1, 'gonna': 3, 'cold': 2, 'month': 1, 'httpstco4jpum6nh5b': 1, 'comics': 1, 'walking': 2, 'dead': 2, '163': 1, 'retailer': 1, 'colour': 1, 'variant': 1, '1200': 1, 'super': 2, 'rare': 2, 'httpstcoovdr00klug': 1, 'comic': 1, 'httpstcojfvqb5xuel': 1, 'bubbafartbucket': 1, 'usually': 1, 'does': 2, 'martergarter': 1, 'yup': 1, '12': 2, 'mayweather': 1, '34': 2, 'mcgregor': 1, 'twitter': 2, 'months': 2, 'since': 3, 'apr': 1, '2015': 1, 'httpstcolxhcbs9zi1': 1, '“what': 1, 'rings': 3, 'true': 2, 'false”': 1, 'brett': 1, 'kavanaugh': 4, 'kavanaughvote': 1, 'cc': 1, 'jeffflake': 1, 'senatorcollins': 1, 'httpstcoeobfmtemea': 1, 'cute': 3, 'me😉': 1, 'httpstcoy7xy2bkpm0': 1, '899': 1, 'split': 1, 'bk1': 1, 'hybrid': 1, 'series': 3, 'plunge': 1, 'mount': 1, '1st': 1, 'rung': 1, 'mi5': 1, 'thrillers': 1, 'ladder': 1, 'httpstcobswnr3ajgo': 1, 'someone': 1, 'second': 2, 'mother': 2, 'breast': 1, 'cancer': 2, 'loss': 1, 'still': 7, 'felt': 2, 'everyone': 3, 'l': 2, 'httpstcoxqsovcy5ae': 1, 'expected': 1, 'ok': 2, 'amazing': 2, 'project': 2, 'such': 1, 'strong': 1, 'sure': 3, 'will': 7, 'reach': 3, 'successi': 1, 'wh': 1, 'httpstcoii2nrajruo': 1, 'everyhourr231120161': 1, 'test': 2, '20181003': 1, '010015': 1, 'odds': 1, 'maluma': 1, 'noticing': 1, 'comment': 1, '“i': 1, 'you”': 1, 'every': 2, 'drink': 1, 'henny': 1, 'planning': 2, 'trips': 1, 'stresses': 1, '😂🙂😅': 1, 'affordable': 1, 'quick': 1, 'business': 3, 'card': 2, 'design': 1, 'services': 1, 'auxano': 1, 'businesscard': 1, 'bestbusinesscard': 1, 'httpstcowlwk737tg8': 1, '0658': 1, 'cest': 3, 'lincolnbrewster': 1, 'letyourgloryshine': 1, 'lead': 2, 'rock': 1, 'radio': 1, 'todays': 1, 'dance': 2, 'youtube': 4, 'video': 4, '「silk': 1, 'city': 1, 'dua': 1, 'lipa」s': 1, '『electricity': 1, 'feat': 1, 'diplo': 1, 'mark': 1, 'ronson』': 1, 'httpstcou2s12am8yb': 1, 'wow': 2, 'excited': 1, 'bless': 1, 'boo': 1, 'finna': 1, 'watch': 2, 'naruto': 1, 'eat': 2, 'mozzarella': 1, 'sticks': 1, 'onion': 1, 'heres': 1, 'longterm': 1, 'tax': 1, 'bracket': 1, 'management': 1, 'increase': 1, 'taxefficiency': 1, 'retirement': 1, 'portfolio': 1, 'httpstcouumttdcuuk': 1, 'anyone': 1, 'harness': 1, 'power': 1, 'emotional': 1, 'energy': 1, 'scorpio': 1, 'httpstcovfwdiasb6w': 1, 'north': 2, 'south': 1, 'which': 2, 'headed': 1, 'visit': 1, 'melbourne': 1, 'httpstcozrl8t33j2l': 1, 'tl': 2, 'please': 2, 'guys': 1, 'middle': 1, '😭😭': 1, '0656': 1, 'understand': 2, 'dns': 1, 'servers': 1, 'persistently': 1, 'difficult': 1, 'fostah': 1, 'hahahah': 1, 'ill': 1, 'try': 1, 'sunrise': 1, '0549am': 1, 'partly': 1, 'cloudy': 2, 'high': 2, 'low': 2, 'of23': 1, 'httpstcolclke8cgd1': 1, 'nice': 1, '24': 1, 'devoted': 1, 'car': 1, 'httpstcoriuk0irmu9': 1, 'ripping': 1, 'seams': 1, 'wanted': 2, '’': 2, 'he’s': 2, 'acting': 1, 'jake': 1, 'pol': 1, 'crime': 1, 'equivalent': 1, 'ted': 1, 'bundy': 1, 'jeffrey': 1, 'dahmer': 1, 'stupid': 1, 'serial': 1, 'sexual': 1, 'predator': 1, 'demeans': 1, 'belittles': 1, 'women': 2, 'hi': 2, 'mkbhd': 1, 'smartwatch': 1, 'usual': 1, 'gps': 1, 'hartrate': 1, 'sensor': 1, 'wear': 2, 'os': 1, 'seems': 1, 'f': 1, 'httpstcocqommdjlhe': 1, 'elj1329': 1, 'andallorie': 1, 'vhilms': 1, 'aldubeth02': 1, 'pinkyfaye': 1, 'latuazon': 1, 'jegi18': 1, 'wengcookie': 1, 'noemicaseres53': 1, 'sakurakharel': 1, 'httpstcoxdfqj4q4nd': 1, 'story': 3, 'unremarkable': 1, 'place': 1, 'unspeakable': 1, 'evil': 1, 'sugar': 1, 'creek': 1, 'httpstcoljsufvohvw': 1, 'woman’s': 1, 'fault': 1, '🙄': 1, 'cinnamontoastk': 1, 'impossible': 1, 'paid': 2, 'talk': 1, 'sports': 1, 'nl': 1, 'west': 1, 'would': 2, 'playoffs': 1, 'httpstcolhjh9684gi': 1, 'judged': 1, 'reason': 1, 'sucks': 1, 'thank': 3, 'u': 3, 'taking': 2, 'chance': 1, 'isnt': 1, 'worth': 2, 'shift': 1, 'tide': 1, 'barely': 1, 'perceptible': 1, 'httpstcoqjvnusqedo': 1, 'living': 1, 'yall': 1, 'lie': 2, 'man': 3, 'eyeing': 1, 'shock': 1, 'loan': 1, 'move': 1, 'veteran': 1, 'swedish': 1, 'defender': 1, 'httpstcopk8p8ox779': 1, 'httpstcoxwvbx0plx1': 1, 'tallest': 1, 'height': 1, 'called': 1, 'httpstco1absx3qyzg': 1, 'fuck': 7, 'going': 2, 'watching': 2, 'titanic': 1, 'already': 1, 'part💀': 1, 'trade': 2, 'pact': 1, 'clause': 1, 'seen': 3, 'deterring': 1, 'china': 1, 'deals': 1, 'httpstcopj2oopvlwi': 1, 'lokol': 1, 'stalbert': 1, 'tatumnicoleee': 1, 'waiting': 2, 'disappoint': 1, 'everyday': 2, '🤷🏽\\u200d♂️🤷🏽\\u200d♂️🤷🏽\\u200d♂️': 1, 'upstephanie': 1, 'st': 1, 'albert': 1, 'sherwood': 1, 'park': 2, 'consider': 1, 'themselves': 1, 'town': 1, 'convenient': 1, 'httpstcoudrbs86xlz': 1, 'didnt': 2, 'dyin': 1, 'alexjferraro': 1, '🙏🙏': 1, 'happy': 2, 'birthday': 1, 'brother': 2, 'talejo': 1, 'ya': 2, 'baby🤨❤️': 1, 'owners': 1, 'riverside': 1, 'ca': 1, 'employee': 1, 'problem': 1, 'help': 2, 'join': 1, 'board': 1, 'directors': 1, 'httpstcopdkfinrrt3': 1, '😳': 1, 'martines': 1, 'hwy': 1, '4': 1, 'westbound': 1, 'wrong': 3, 'driver': 1, 'struck': 1, 'several': 1, 'vehicles': 1, 'delays': 1, 'wb4': 1, 'cummings': 1, 'skyway': 1, 'asks': 1, 'lot': 3, 'questions': 1, 'mind': 2, 'alone': 1, 'answer': 2, 'tod': 1, 'pisces': 1, 'httpstcofolhhg60gv': 1, 'news': 1, 'made': 3, 'nag': 1, 'resign': 1, 'na': 1, 'si': 1, 'mocha': 1, '😂😂😂👍👍👍👍': 1, 'mood': 2, 'ivaaaania': 1, 'httpstcounkbfconyy': 1, 'doing': 1, 'httpstcoxerszhuvfr': 1, 'act': 1, 'issa': 1, 'boy': 1, '💃🏽': 1, 'postbigfines': 1, 'sis': 3, 'gone': 2, 'around': 1, 'yeast': 1, 'infection': 1, 'google': 1, 'optimise': 1, 'site': 1, 'rankings': 1, 'httpstco4xf7na046e': 1, 'seo': 1, 'training': 1, 'got': 3, 'broken': 1, 'w': 2, 'text': 1, 'seventh': 1, 'grade': 2, 'hurting': 1, 'bc': 2, 'chanc': 1, 'httpstcozx24lkkqtq': 1, 'unique': 1, 'style': 1, 'putting': 1, 'external': 1, 'conditions': 1, 'capricorn': 1, 'httpstco8aruck5lt8': 1, 'anthonyvito': 1, 'you’re': 2, '🤔': 1, 'making': 1, 'regular': 1, 'principal': 1, 'contributions': 1, 'addition': 2, 'house': 2, 'payment': 1, 'mortgage': 1, 'httpstcoe2sj65jga5': 1, 'lexiialijaii': 1, 'httpstco7wzhpis5aj': 1, 'genuinely': 1, 'nagaland': 1, '22nd': 1, 'open': 1, 'defecation': 1, 'state': 1, 'india': 1, 'httpstcormadaxervi': 1, 'httpstcoeewlpsgpgi': 1, 'ouch': 1, 'home': 1, 'plate': 1, 'umpire': 1, 'took': 2, 'full': 1, 'brunt': 1, 'pitch': 1, '0659': 1, 'tamianico': 1, 'naw': 1, 'appreciate': 1, 'much': 4, 'technology': 1, 'whole': 1, 'vibe': 1, 'rome': 2, 'mostly': 1, 'sunny': 1, '80f': 1, '57f': 1, 'italy': 1, 'sister': 1, 'won’t': 1, 'see': 3, 'spiderman': 1, 'spider': 1, 'verse': 1, 'december': 1, 'applications': 1, 'sibli': 1, 'httpstcorxmr62lcah': 1, 'folks': 1, 'i’ve': 2, 'experienced': 1, 'bullshit': 1, 'long': 2, 'term': 1, 'basis': 1, 'i’ll': 2, 'damned': 1, 'let': 3, 'another': 4, 'mf': 1, 'httpstcodfhcziw71a': 1, '1400': 1, 'daisyxsock': 1, 'o': 1, 'whos': 2, 'periscope': 1, 'qampa': 1, 'woe': 1, 'generation': 1, 'advice': 1, 'prayer': 1, 'eggdrp': 1, 'golive': 1, 'periscopetv': 1, 'httpstcojro4bajbi6': 1, 'lose': 1, 'appeal': 1, 'they’re': 1, 'turning': 1, 'television': 1, 'theme': 1, 'fl': 1, 'broward': 1, 'hollywood': 1, 'httpstcochugqkxm31': 1, '11thhour': 1, 'dire': 1, 'emergency': 1, 'message': 1, 'proven': 1, 'pathological': 1, 'liar': 1, 'great': 3, 'idea': 1, 'ily': 1, 'bihh': 1, '—': 1, 'ilyt': 1, 'httpstco3jyabc1u7x': 1, 'opshinobi': 1, 'also': 2, 'hate': 1, 'sakura': 1, 'doesnt': 2, 'sad': 3, 'dad': 1, 'wtf': 1, 'xradius': 1, 'yeah': 2, 'okay': 2, 'tight': 1, 'situation': 2, 'financially': 1, 'class': 1, 'requiring': 1, 'spendi': 1, 'httpstcoo98ktwxdtu': 1, 'vlmhma': 1, 'senate': 2, 'sandu787': 1, 'replied': 1, 'dm': 1, 'kindly': 1, 'tar': 1, 'fucking': 1, 'name': 1, 'jtb22297': 1, 'least': 1, 'ump': 2, 'drilled': 1, 'smoke': 1, 'wood': 1, 'survive': 1, 'becoming': 1, 'avatar': 1, 'retribution': 2, 'daughter': 1, 'leave': 1, 'seriously': 1, 'though': 1, 'both': 2, 'parishes': 1, 'bozeman': 1, 'cancel': 1, 'confession': 1, 'offer': 1, 'httpstcoqzrgozwyvn': 1, '0645': 1, '96°c': 1, 'hum': 1, '74': 1, 'dewp': 1, '41°c': 1, '10244': 1, '196°': 1, '112': 1, 'kmh': 1, 'fuckinghqze': 1, 'valebillz': 1, 'darejonson': 1, 'villainrespi': 1, 'wplls': 1, 'forward': 1, 'cubs': 3, '“hit': 1, 'batter”': 1, 'winnbooker': 1, 'dpthekid': 1, 'cjbarrett9': 1, 'zekeshutdown24': 1, 'lilbigbrother': 1, 'bossmanbam59': 1, 'mr32': 1, 'lived': 1, 'purpose': 1, 'discover': 1, 'strange': 2, 'truth': 2, 'arrogant': 1, 'entitled': 1, 'lying': 1, 'pos': 1, 'nathisounds': 1, '😇🤗': 1, 'bigdickbigego': 1, 'lethargiccommie': 1, 'videorelaxants': 1, 'technically': 1, 'failed': 1, 'pseudonation': 1, 'tried': 1, 'ex': 1, 'httpstcowijr2ely9q': 1, 'hour': 2, '0100pmmrpoints': 1, 'staydc': 1, 'macdonald': 1, 'sorry': 1, 'turned': 1, 'sappy': 1, 'httpstcoqrmw9vxfrz': 1, 'money': 3, 'saying': 1, 'cbs': 1, 'translator': 1, 'atrocity': 1, 'marijuanablunts': 1, 'yaboysavage': 1, '😢': 1, 'dom': 1, 'how’d': 1, 'congratulations': 1, 'victryant': 1, 'starting': 1, 'very': 1, 'label': 1, 'run': 3, 'n’': 2, 'gun': 1, '😈🏆': 1, 'guns': 1, 'artist': 2, 'httpstco3mlnieiud9': 1, 'official': 1, 'teacher': 1, 'members': 1, 'repeatedly': 1, 'referring': 1, 'taehyung': 1, 'member': 1, 'dan': 1, 'httpstcoauugwvvtb7': 1, 'review': 1, 'innovation': 1, 'agency': 1, 'plans': 1, 'major': 1, 'push': 1, 'startups': 1, 'httpstconhqciuoele': 1, 'httpstcojqjzwkawth': 1, 'recent': 2, 'picture': 2, 'thala': 2, 'ajith': 1, 'sir': 2, 'fan': 1, 'viswasam': 1, 'httpstcoaytkyjhu5l': 1, 'problems': 1, 'fit': 1, 'httpstcopbojpr0lep': 1, 'httpstco91z4evr3rl': 1, 'stick': 1, 'running': 2, 'cantact': 1, 'safety': 1, 'per': 1, '‘reeva': 1, 'pack’': 1, 'statistics': 1, 'show': 2, 'leaving': 1, 'abusive': 1, 'relatio': 1, 'httpstcozaox2yhkzb': 1, 'liked': 2, 'httpstcorisivim9c3': 1, 'haunting': 1, 'el': 1, 'paso': 1, 'high🎃👻🔪': 1, 'wrote': 1, '14': 1, 'page': 1, 'paper': 1, 'something': 2, 'am': 1, 'livid': 1, 'dutch': 1, 'bank': 1, 'sentences': 1, 'teenage': 1, 'ddos': 1, 'culprit': 1, 'community': 1, 'service': 1, 'httpstcop9fluqxugi': 1, 'sarahpalinusa': 1, 'fantastic': 1, 'follow': 3, 'tells': 1, 'everything': 1, 'ny': 2, 'tju': 1, 'pardede': 3, 'wife': 1, 'ronaldo': 2, 'forever': 1, 'marriage': 1, 'license': 1, 'httpstcoiqybyq6nog': 1, 'robynslov': 1, 'little': 1, 'monsters': 1, 'compare': 1, 'gaga': 1, 'wonderful': 1, '😂👍': 1, 'shewhoblesses': 1, 'enough': 1, 'needed': 2, 'feel': 2, 'safe': 2, 'httpstcocqxujkc0pi': 1, 'ford': 1, 'exboyfriend': 1, 'helped': 1, 'friend': 1, 'prep': 1, 'potential': 1, 'polygraph': 1, 'pro2ndamendment': 1, 'httpstcoc9abzzauvm': 1, 'finding': 1, 'former': 1, 'ferns': 1, 'hc': 1, 'andreas': 1, 'herafs': 1, 'actions': 1, 'crossed': 1, 'line': 1, 'bullying': 1, 'harassment': 1, 'httpstcouckcllduba': 1, 'hookups': 1, 'sign': 1, 'email': 1, 'credit': 1, 'simple': 1, 'httpstcofhgfgyxxcm': 1, 'caught': 1, 'breaks': 1, 'slightest': 1, 'japan': 1, 'probably': 2, 'coronating': 1, 'naito': 1, 'fukuoka': 1, 'rather': 1, 'osaka': 1, 'optics': 1, 'cons': 1, 'httpstcovnqsv2ty0r': 1, 'hot': 1, 'wings': 1, 'darnoldszn': 1, '360ffb': 1, 'matters': 1, 'cook': 1, 'dalvin': 1, 'jared': 1, 'work': 1, 'passion😍': 1, 'httpstcoojeyufgjyo': 1, 'yanksgalaxy28': 1, 'ass': 2, 'kicked': 1, 'sarcasmblood': 1, 'rulingplanet': 1, 'needs': 1, 'either': 1, 's': 2, 'httpstco1iu04bq2lq': 1, 'sweetash': 1, 'tough': 1, 'sing': 2, 'bet': 1, 'anyway': 1, 'casause': 1, '1200am': 1, 'knew': 1, '😂😂': 1, 'tina': 1, 'currently': 1, '11°c': 1, '16°c': 1, 'kingdom': 1, 'mytholmroyd': 1, 'rolling': 1, 'nigga😂': 1, 'taylorj5697': 1, 'baby': 1, 'being': 1, 'incredible': 1, 'thoughtful': 1, 'girl😘😘': 1, 'music': 1, 'daily': 1, 'unfollower': 1, 'crowdfire': 1, 'trick': 1, 'httpstcogvn7wleuwq': 1, 'bxgxshannon': 1, 'saksakcherry': 1, 'kirinjeu': 1, 'basically': 1, 'mrmadee': 1, 'thx': 1, 'bro': 1, 'wish': 1, 'sarkar': 1, 'rednationrising': 1, 'ocasiocortez': 1, 'ignorant': 1, 'aims': 1, 'keep': 3, 'yhsdior': 1, 'rea': 1, 'y': 1, 'httpstcozorngikzf1': 1, 'offense': 1, 'hits': 1, 'muster': 1, 'weak': 1, 'contact': 1, 'season': 2, 'oreojoker': 1, 'question': 1, 'dude': 1, 'spent': 1, 'fx': 1, 'ea': 1, 'right': 1, 'side': 2, 'market': 1, 'winning': 1, 'hes': 2, 'genius': 1, 'httpstcodd87d2wz6z': 1, 'cespedesbbq': 1, 'put': 1, 'theoutpost': 1, 'kinseip': 1, 'riled': 1, 'controversial': 1, 'topics': 1, 'httpstcogdyntz12lm': 1, 'e1': 1, 'p4': 1, 'telling': 1, 'daniel': 1, 'httpstcoz528s34504': 1, 'wearing': 1, 'socks': 1, 'slides': 1, 'btsbighit': 1, 'working': 1, 'hard': 1, 'boys': 1, '💜💜💜💜': 1, 'superb': 1, '😄💜': 1, 'acbryhn': 1, 'ping': 1, 'aquaticphyto': 1, 'face': 2, 'clearing': 1, 'breaking': 1, 'again': 1, '😕why': 1, 'swear': 1, 'shes': 3, 'destined': 1, 'screen': 1, 'mommywifelife7': 1, 'holding': 1, 'purple': 1, 'shirt': 1, 'lmfao': 1, 'jk': 1, 'saw': 1, 'seem': 1, 'legit': 2, 'httpstco6im4cnwq00': 1, 'juliedicaro': 1, 'mitchrosen670': 1, 'turn': 1, 'lakers': 1, 'agree': 1, 'threats': 1, '“white': 1, 'men”': 1, 'sick': 1, '🧐🧐🧐': 1, 'nicekicks': 1, 'nikes': 1, 'oil': 1, 'grey': 1, 'air': 1, 'deluxe': 1, 'spilled': 1, 'retail': 1, 'httpstcouir8f8ozew': 1, 'httpstcoaq6wwetpwl': 1, 'beautiful': 1, 'specimen': 1, 'andrew559': 1, '2nd': 1, 'person': 1, 'private': 1, '😆': 1, 'thai': 1, 'village': 1, 'httpstcowmlhejgoec': 1, '🌅': 1, 'wednesday': 1, '🤓🤓': 1, 'humpday': 1, '💋✌️': 1, 'httpstcoxjyywvzpwg': 1, 'frankly': 1, 'baseball': 2, 'gods': 1, 'stupidest': 1, 'administer': 1, 'coldervibes': 1, 'jaxxrivaro': 1, 'thiszer0': 1, 'superstonereco1': 1, 'thanks': 1, '🙏': 1, 'mika': 1, 'professor': 1, 'say': 3, 'impulsively': 1, 'weewooing': 1, 'escape': 1, 'gwen': 1, 'stefani': 1, 'httpstcoaq5ybwg6rt': 1, 'elizabeth': 1, 'smart': 1, 'tedxuniversityofnevada': 1, 'eyes': 1, 'look': 2, 'eye': 1, 'cpec': 1, 'lahore': 1, 'abbtakk': 1, 'punjab': 1, 'russia': 1, 'cricket': 1, 'nawazsharif': 1, 'dk': 1, 'happened': 1, 'sako': 1, 'we’re': 1, 'screwed': 1, 'ngaudiano': 1, 'confirmed': 1, 'recused': 1, 'watched': 1, 'scotus': 1, 'history': 1, 'httpstcoof6rswsibc': 1, 'agustdvee': 1, 'jdjdksks': 1, 'frame': 1, 'travel': 1, 'tour': 1, 'company': 1, 'myanmar': 1, 'scared': 1, '🤦🏽\\u200d♀️': 1, 'iankenyonnfl': 1, 'thomas': 1, 'sense': 1, 'yes': 2, 'qb': 1, 'kyles': 1, 'plan': 1, 'pursue': 1, 'httpstconlgz4bg1nc': 1, 'unfollowed': 1, 'mad': 1, 'ig': 1, 'volunteer': 1, 'delivers': 1, 'monthly': 1, 'meeting': 1, 'networking': 1, 'hear': 1, 'premiertaxuk': 1, 'httpstco4lf67auvmx': 1, 'johncardillo': 1, 'pathetic': 1, 'schmuck': 1, 'tuck': 1, 'tail': 1, 'required': 1, 'bravery': 1, 'papertiger': 1, 'absolutely': 1, 'depressing': 1, 'having': 1, 'pluckers': 1, 'near': 1, 'crave': 1, 'concert': 1, 'crabby': 1, 'patty': 1, 'formula': 1, 'far': 1, 'p155': 1, 'once': 1, 'patent': 2, 'established': 1, 'legal': 1, 'costs': 1, 'successfully': 1, 'defend': 1, 'capitalized': 1, 'httpstcofcrsswpbpo': 1, 'bluffy04': 1, 'phone': 3, 'straightest': 1, 'ive': 1, 'porn': 1, 'tf': 1, 'down': 1, 'done': 1, 'cider👀': 1, 'thinks': 1, 'distance': 1, 'reflex': 1, 'shirou': 1, 'straighter': 1, 'httpstcoyk4jzqun7v': 1, 'brady': 1, 'hoke': 1, 'beside': 1, 'himself': 1, 'fall': 1, 'kevinprobably': 1, 'tuesday': 1, 'd': 1, 'httpstcov6wql9vxrn': 1, 'donuts': 1, '1dbd0b94228246039e5a8f809a7b072a': 1, '0458': 1, 'showdown': 1, 'intense': 1, 'httpstcoxipcm5k4bz': 1, 'inktober': 1, 'drawing': 1, 'sketch': 1, 'kamenrider': 1, 'fanart': 1, 'ink': 1, 'miniso': 1, 'anatomy': 1, 'learning': 1, 'httpstcokyednbhi4u': 1, 'ultimaterpe': 1, 'gahyeon': 1, 'black': 1, 'hair': 1, 'hatcultural': 1, 'appropriationracist': 1, 'dems': 1, 'dominosindia': 1, 'dominos': 1, 'gotten': 1, 'refund': 1, 'screenshot': 1, 'false': 1, 'promis': 1, 'httpstcohq1wkjpkql': 1, 'facepalming': 1, 'self': 1, 'bruh': 1, 'httpstcon8txo4rumz': 1, 'posted': 2, 'photo': 1, 'httpstcodxfscz2bcl': 1, 'hanging': 1, 'httpstco40l2gxcf0m': 1, 'shanakascore': 1, 'actually': 2, 'ask': 1, 'httpstcojg2ilawpak': 1, 'godzillasheart': 1, 'adelah': 1, 'khurrammki': 1, 'ohsoyoumel': 1, 'mariumali': 1, 'states': 1, 'arent': 1, 'america': 1, 'httpstcoa4glbqcwef': 1, 'pay': 1, 'attention': 1, 'cubsgirl23': 1, 'outdoor': 1, 'cat': 1, 'while': 2, 'sound': 1, 'asleep': 1, 't': 1, 'httpstcotcmbrqwd8h': 1, 'chohan1954': 1, 'vikramwkarve': 1, 'satishbahri': 1, 'kayjay34350': 1, 'brigtejinder': 1, 'cmseth1': 1, 'sex': 1, 'alright': 1, 'tancolored': 1, 'wool': 1, 'yellow': 1, 'blouse': 1, 'rosap86': 1, 'footage': 1, 'leaks': 1, 'mysterious': 1, 'harry': 1, 'potter': 1, 'rpg': 1, 'httpstcodvqpdgo2fv': 1, 'httpstcowidynfso5j': 1, 'spreading': 1, 'propaganda': 1, '10': 1, '💙': 1, 'httpstco64h5lljagb': 1, 'roboticcrab': 1, 'logfromblammo': 1, 'octopus': 1, '🐙': 1, 'rethink': 1, 'whatever': 1, 'facebook': 1, 'httpstco4iqymib8ww': 1, 'trying': 1, 'figure': 1, 'there’s': 1, 'ravaged': 1, 'ahole': 1, 'seaggbrily': 1, 'milking': 1, 'soniafurstenau': 1, 'article': 1, 'ignores': 1, 'research': 1, 'claiming': 1, 'discuss': 1, 'latest': 1, 'resear': 1, 'httpstcoxhxzxu7pze': 1, 'cosplayers': 1, 'remember': 1, 'fact': 1, 'httpstcozfriisiqwf': 1}\n"
     ]
    }
   ],
   "source": [
    "import string\n",
    "d = {}\n",
    "for r in twitter_ok:\n",
    "    if 'retweeted_status' not in r and r['lang'] == 'en':\n",
    "        for word in r['text'].split():\n",
    "            exclude = set(string.punctuation + \"…\")\n",
    "            word = ''.join(ch for ch in word if ch not in exclude)\n",
    "            word = word.lower()\n",
    "            if word in d:\n",
    "                d[word] += 1\n",
    "            else:\n",
    "                d[word] = 1\n",
    "print (d)\n",
    "      "
   ]
  },
  {
   "cell_type": "markdown",
   "metadata": {},
   "source": [
    "Создаем словарь: имена юзеров и количество подписчиков. Сортируем по кличеству и выводим топ 10."
   ]
  },
  {
   "cell_type": "code",
   "execution_count": 77,
   "metadata": {},
   "outputs": [
    {
     "name": "stdout",
     "output_type": "stream",
     "text": [
      "Filosofía♕\n",
      "FITNESS Magazine\n",
      "malaysiakini.com\n",
      "NYT Science\n",
      "Gramática\n",
      "TGRT Haber\n",
      "The Sun Football ⚽\n",
      "Melbourne, Australia\n",
      "Roznama Express\n",
      "💞 ცųཞɠɛཞცơơɠıɛ 💞\n"
     ]
    }
   ],
   "source": [
    "d = {}\n",
    "for t in twitter_ok:\n",
    "    if t['user']['name'] in d:\n",
    "        pass\n",
    "    else:\n",
    "        d[t['user']['name']] = t['user']['followers_count']\n",
    "sorted_d = sorted(d.items(), key=operator.itemgetter(1))\n",
    "for i in range(10):\n",
    "    k = (len(sorted_d) - i - 1)\n",
    "    print (sorted_d[k][0])\n"
   ]
  }
 ],
 "metadata": {
  "kernelspec": {
   "display_name": "Python 3",
   "language": "python",
   "name": "python3"
  },
  "language_info": {
   "codemirror_mode": {
    "name": "ipython",
    "version": 3
   },
   "file_extension": ".py",
   "mimetype": "text/x-python",
   "name": "python",
   "nbconvert_exporter": "python",
   "pygments_lexer": "ipython3",
   "version": "3.7.0"
  }
 },
 "nbformat": 4,
 "nbformat_minor": 2
}
